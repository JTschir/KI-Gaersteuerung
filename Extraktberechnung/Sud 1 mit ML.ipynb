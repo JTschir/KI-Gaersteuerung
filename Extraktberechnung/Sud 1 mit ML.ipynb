{
 "cells": [
  {
   "cell_type": "code",
   "execution_count": 2,
   "source": [
    "import json\r\n",
    "import matplotlib.pyplot as plt\r\n",
    "import numpy as np\r\n",
    "import pandas as pd\r\n",
    "import math\r\n",
    "from datetime import datetime"
   ],
   "outputs": [],
   "metadata": {}
  },
  {
   "cell_type": "code",
   "execution_count": 3,
   "source": [
    "###################################################################################\r\n",
    "###         convert dates and times of manual controls to timestamps            ###\r\n",
    "###################################################################################\r\n",
    "\r\n",
    "year = 2021\r\n",
    "month = 5\r\n",
    "day = [5, 5, 6, 7, 8, 9, 10, 11, 13, 18, 14]\r\n",
    "hour = [0, 20, 10, 8, 10, 13, 9, 16, 11, 12, 0]\r\n",
    "minutes = [13, 13, 46, 27, 40, 20, 0, 24, 50, 15, 0]\r\n",
    "seconds = 0\r\n",
    "timestamps = []\r\n",
    "\r\n",
    "if len(day) == len(hour) == len(minutes):\r\n",
    "    for i in range(len(day)):\r\n",
    "        time = datetime(year, month, day[i], hour[i], minutes[i], seconds)\r\n",
    "        timestamp = time.timestamp()\r\n",
    "        timestamps.append(timestamp)\r\n",
    "        print(time, 'hat den Timestamp', timestamp)\r\n",
    "\r\n",
    "else:\r\n",
    "    print('ungleiche Zahl an Tagen, Stunden & Minuten')"
   ],
   "outputs": [
    {
     "output_type": "stream",
     "name": "stdout",
     "text": [
      "2021-05-05 00:13:00 hat den Timestamp 1620166380.0\n",
      "2021-05-05 20:13:00 hat den Timestamp 1620238380.0\n",
      "2021-05-06 10:46:00 hat den Timestamp 1620290760.0\n",
      "2021-05-07 08:27:00 hat den Timestamp 1620368820.0\n",
      "2021-05-08 10:40:00 hat den Timestamp 1620463200.0\n",
      "2021-05-09 13:20:00 hat den Timestamp 1620559200.0\n",
      "2021-05-10 09:00:00 hat den Timestamp 1620630000.0\n",
      "2021-05-11 16:24:00 hat den Timestamp 1620743040.0\n",
      "2021-05-13 11:50:00 hat den Timestamp 1620899400.0\n",
      "2021-05-18 12:15:00 hat den Timestamp 1621332900.0\n",
      "2021-05-14 00:00:00 hat den Timestamp 1620943200.0\n"
     ]
    }
   ],
   "metadata": {}
  },
  {
   "cell_type": "code",
   "execution_count": 4,
   "source": [
    "###################################################\r\n",
    "###         read all data form log-file         ###\r\n",
    "###################################################\r\n",
    "\r\n",
    "file_data = 'C:\\\\Users\\Jan\\GitRepos\\data\\Sud1.json'\r\n",
    "\r\n",
    "time=[]\r\n",
    "pressure=[]\r\n",
    "airflow=[]\r\n",
    "with open (file_data) as f:\r\n",
    "    for line in f:\r\n",
    "        fermentation = json.loads(line)\r\n",
    "        time.append(fermentation['Timestamp'])\r\n",
    "        pressure_dict=fermentation['pressure']\r\n",
    "        pressure.append(pressure_dict['bar'])\r\n",
    "        airflow_dict = fermentation['airflow']\r\n",
    "        airflow.append(airflow_dict['flow'])\r\n",
    "\r\n",
    "###########################################################\r\n",
    "###         transofrm data into numpy arrays            ###\r\n",
    "###########################################################\r\n",
    "\r\n",
    "time = np.array(time)\r\n",
    "time = np.multiply(0.001, time).round(decimals=0)   # transform timestamps from milliseconds to seconds\r\n",
    "pressure = np.array(pressure)\r\n",
    "airflow = np.array(airflow)\r\n",
    "\r\n",
    "print('time shape:', time.shape)\r\n",
    "print('pressure shape:', pressure.shape)\r\n",
    "print('airflow shape:', airflow.shape)"
   ],
   "outputs": [
    {
     "output_type": "stream",
     "name": "stdout",
     "text": [
      "time shape: (270352,)\n",
      "pressure shape: (270352,)\n",
      "airflow shape: (270352,)\n"
     ]
    }
   ],
   "metadata": {}
  },
  {
   "cell_type": "code",
   "execution_count": 5,
   "source": [
    "#######################################################\r\n",
    "###         find first and last timestamp           ###\r\n",
    "#######################################################\r\n",
    "\r\n",
    "print(np.where(time==1620166381)[0][0])             # zeigt Position des ersten Wertes an -> bis hier werden die Werte der Arrays gelöscht\r\n",
    "print(time[-1])                                     # zeigt dass die letzte digitale Messung vor der letzten Manuellen Messung stattfand -> Arrays bleiben bis zum Ende erhalten"
   ],
   "outputs": [
    {
     "output_type": "stream",
     "name": "stdout",
     "text": [
      "38773\n",
      "1621328577.0\n"
     ]
    }
   ],
   "metadata": {}
  },
  {
   "cell_type": "code",
   "execution_count": 6,
   "source": [
    "####################################################################################\r\n",
    "###         delete first values of arrays before start of fermentation           ###\r\n",
    "####################################################################################\r\n",
    "\r\n",
    "time = time[38773:]\r\n",
    "pressure = pressure[38773:]\r\n",
    "airflow = airflow[38773:]\r\n",
    "print(time[0])                                      # prüfe, dass wirklich mit richtigem timestamp gestartet wird\r\n",
    "\r\n",
    "time = time.clip(min=0)                             # set negativ values to zero\r\n",
    "pressure = pressure.clip(min=0)                     # set negativ values to zero\r\n",
    "airflow[airflow < 20] = 0                           # set values smaller than 20 to zero\r\n",
    "\r\n",
    "print('time shape:', time.shape)\r\n",
    "print('pressure shape:', pressure.shape)\r\n",
    "print('airflow shape:', airflow.shape)"
   ],
   "outputs": [
    {
     "output_type": "stream",
     "name": "stdout",
     "text": [
      "1620166381.0\n",
      "time shape: (231579,)\n",
      "pressure shape: (231579,)\n",
      "airflow shape: (231579,)\n"
     ]
    }
   ],
   "metadata": {}
  },
  {
   "cell_type": "code",
   "execution_count": 7,
   "source": [
    "plt.figure(figsize=(12,4))\r\n",
    "plt.title('airflow during fermentation')\r\n",
    "plt.plot(time,airflow)\r\n",
    "plt.xlabel('time')\r\n",
    "plt.ylabel('airflow[SLPM]')\r\n",
    "plt.show()"
   ],
   "outputs": [
    {
     "output_type": "display_data",
     "data": {
      "text/plain": [
       "<Figure size 864x288 with 1 Axes>"
      ],
      "image/png": "[encoded data removed]"
     },
     "metadata": {
      "needs_background": "light"
     }
    }
   ],
   "metadata": {}
  },
  {
   "cell_type": "code",
   "execution_count": 8,
   "source": [
    "plt.figure(figsize=(12,4))\r\n",
    "plt.title('Pressure during fermentation')\r\n",
    "plt.plot(time, pressure)\r\n",
    "plt.xlabel('time')\r\n",
    "plt.ylabel('pressure [bar]')\r\n",
    "plt.show()"
   ],
   "outputs": [
    {
     "output_type": "display_data",
     "data": {
      "text/plain": [
       "<Figure size 864x288 with 1 Axes>"
      ],
      "image/png": "[encoded data removed]"
     },
     "metadata": {
      "needs_background": "light"
     }
    }
   ],
   "metadata": {}
  },
  {
   "cell_type": "code",
   "execution_count": 9,
   "source": [
    "#########################################################\r\n",
    "###         smoothing of airflow and pressure         ###\r\n",
    "#########################################################\r\n",
    "\r\n",
    "kernel_size = 10000\r\n",
    "kernel = np.ones(kernel_size) / kernel_size\r\n",
    "airflow = np.convolve(airflow, kernel, mode='same')\r\n",
    "pressure = np.convolve(pressure, kernel, mode='same')\r\n",
    "\r\n",
    "print('airflow shape:', airflow.shape)\r\n",
    "print('pressure shape:', pressure.shape)"
   ],
   "outputs": [
    {
     "output_type": "stream",
     "name": "stdout",
     "text": [
      "airflow shape: (231579,)\n",
      "pressure shape: (231579,)\n"
     ]
    }
   ],
   "metadata": {}
  },
  {
   "cell_type": "code",
   "execution_count": 10,
   "source": [
    "#############################################################################\r\n",
    "###         calculations with arrays for more detailed input data         ###\r\n",
    "#############################################################################\r\n",
    "\r\n",
    "time_seconds = time - 1620166380\r\n",
    "time_days = np.multiply(1.157416667e-5, time_seconds).round(decimals=5)\r\n",
    "\r\n",
    "# ----------------------------------------------------------------\r\n",
    "airflow = np.multiply(0.08, airflow)\r\n",
    "airflow = airflow.round(decimals=5)\r\n",
    "airflow_5s = np.multiply(0.0833333333333, airflow).round(decimals=5)        # *(5/60) -> Standart Liter per 5 secondes\r\n",
    "airflow_sum = np.cumsum(airflow_5s)                                         # sum up all values of airflow in airflow_sum\r\n",
    "airflow_diff = np.diff(airflow_5s)                                          # difference of airflow values to the next one\r\n",
    "airflow_diff = np.insert(airflow_diff, 0, 0)                                # insert beginning zero for same size of array\r\n",
    "\r\n",
    "# ----------------------------------------------------------------\r\n",
    "pressure = pressure.round(decimals=5)\r\n",
    "pressure[156500:] = 0.91\r\n",
    "\r\n",
    "# print(np.amax(pressure))\r\n",
    "# print(pressure.argmax(axis=0))\r\n",
    "# print(pressure[155062])\r\n",
    "\r\n"
   ],
   "outputs": [],
   "metadata": {}
  },
  {
   "cell_type": "code",
   "execution_count": 11,
   "source": [
    "plt.figure(figsize=(12,4))\r\n",
    "plt.title('airflow during fermentation')\r\n",
    "plt.plot(time_days,airflow)\r\n",
    "plt.xlabel('time[days]')\r\n",
    "plt.ylabel('airflow[SLPM]')\r\n",
    "plt.show()"
   ],
   "outputs": [
    {
     "output_type": "display_data",
     "data": {
      "text/plain": [
       "<Figure size 864x288 with 1 Axes>"
      ],
      "image/png": "[encoded data removed]"
     },
     "metadata": {
      "needs_background": "light"
     }
    }
   ],
   "metadata": {}
  },
  {
   "cell_type": "code",
   "execution_count": 12,
   "source": [
    "plt.figure(figsize=(12,4))\r\n",
    "plt.title('Pressure during fermentation')\r\n",
    "plt.plot(time_days, pressure)\r\n",
    "plt.xlabel('time[days]')\r\n",
    "plt.ylabel('pressure [bar]')\r\n",
    "plt.show()"
   ],
   "outputs": [
    {
     "output_type": "display_data",
     "data": {
      "text/plain": [
       "<Figure size 864x288 with 1 Axes>"
      ],
      "image/png": "[encoded data removed]"
     },
     "metadata": {
      "needs_background": "light"
     }
    }
   ],
   "metadata": {}
  },
  {
   "cell_type": "code",
   "execution_count": 13,
   "source": [
    "plt.figure(figsize=(12,4))\r\n",
    "plt.title('airflow during fermentation')\r\n",
    "plt.plot(time_days,airflow_5s)\r\n",
    "plt.xlabel('time[days]')\r\n",
    "plt.ylabel('airflow[SL/5s]')\r\n",
    "plt.show()"
   ],
   "outputs": [
    {
     "output_type": "display_data",
     "data": {
      "text/plain": [
       "<Figure size 864x288 with 1 Axes>"
      ],
      "image/png": "[encoded data removed]"
     },
     "metadata": {
      "needs_background": "light"
     }
    }
   ],
   "metadata": {}
  },
  {
   "cell_type": "code",
   "execution_count": 14,
   "source": [
    "plt.figure(figsize=(12,4))\r\n",
    "plt.title('airflow_sum during fermentation')\r\n",
    "plt.plot(time_days,airflow_sum)\r\n",
    "plt.xlabel('time[days]')\r\n",
    "plt.ylabel('airflow_sum[SL]')\r\n",
    "plt.show()"
   ],
   "outputs": [
    {
     "output_type": "display_data",
     "data": {
      "text/plain": [
       "<Figure size 864x288 with 1 Axes>"
      ],
      "image/png": "[encoded data removed]"
     },
     "metadata": {
      "needs_background": "light"
     }
    }
   ],
   "metadata": {}
  },
  {
   "cell_type": "code",
   "execution_count": 15,
   "source": [
    "##########################################################################################\r\n",
    "###         find position of current temperature, set temperature, set pressure        ###\r\n",
    "##########################################################################################\r\n",
    " \r\n",
    "print(np.where(time==1620238380)[0][0])             # zeigt Position des ersten Wertes an, an dem Soll-Temperatur 10°C und Ist_temperatur 9°C beträgt\r\n",
    "print(np.where(time==1620743040)[0][0])             # zeigt Position des ersten Wertes an, an dem Soll-Temperatur 12°C und Soll-Druck 1,4 bar beträgt\r\n",
    "\r\n",
    "print(np.where(time==1620290761)[0][0])             # zeigt Position des ersten Wertes an, an dem Ist-Temperatur 9,5°C beträgt\r\n",
    "print(np.where(time==1620368820)[0][0])             # zeigt Position des ersten Wertes an, an dem Ist-Temperatur 10°C beträgt\r\n",
    "print(np.where(time==1620899399)[0][0])             # zeigt Position des ersten Wertes an, an dem Ist-Temperatur 12°C beträgt"
   ],
   "outputs": [
    {
     "output_type": "stream",
     "name": "stdout",
     "text": [
      "14342\n",
      "114832\n",
      "24766\n",
      "40300\n",
      "146003\n"
     ]
    }
   ],
   "metadata": {}
  },
  {
   "cell_type": "code",
   "execution_count": 16,
   "source": [
    "#######################################################################################################################\r\n",
    "###         create arrays with same shape for current temperature, temperature setpoint & pressure setpoint         ###\r\n",
    "#######################################################################################################################\r\n",
    "\r\n",
    "temperature = np.full_like(time_days, 1)\r\n",
    "temperature[:14342] = 20\r\n",
    "temperature[14342:24766] = 9\r\n",
    "temperature[24766:40300] = 9.5\r\n",
    "temperature[40300:146003] = 10\r\n",
    "temperature[146003:] = 12\r\n",
    "\r\n",
    "print('temperature shape:', temperature.shape)\r\n",
    "print('temperature:', temperature[:3])\r\n",
    "print('temperature:', temperature[14340:14344])\r\n",
    "print('temperature:', temperature[24764:24768])\r\n",
    "print('temperature:', temperature[40298:40302])\r\n",
    "print('temperature:', temperature[146001:146005])\r\n",
    "\r\n",
    "# ----------------------------------------------------------------\r\n",
    "\r\n",
    "temperature_set = np.full_like(time_days, 1)\r\n",
    "temperature_set[:14342] = 8\r\n",
    "temperature_set[14342:114832] = 10\r\n",
    "temperature_set[114832:] = 12\r\n",
    "\r\n",
    "print('temperature_set shape:', temperature_set.shape)\r\n",
    "print('temperature_set:', temperature_set[:3])\r\n",
    "print('temperature_set:', temperature_set[14340:14344])\r\n",
    "print('temperature_set:', temperature_set[114830:114834])\r\n",
    "\r\n",
    "# ----------------------------------------------------------------\r\n",
    "\r\n",
    "pressure_set = np.full_like(time_days, 0)\r\n",
    "pressure_set[114832:] = 1.4\r\n",
    "\r\n",
    "print('pressure_set shape:', pressure_set.shape)\r\n",
    "print('pressure_set:', pressure_set[:3])\r\n",
    "print('pressure_set:', pressure_set[114830:114834])"
   ],
   "outputs": [
    {
     "output_type": "stream",
     "name": "stdout",
     "text": [
      "temperature shape: (231579,)\n",
      "temperature: [20. 20. 20.]\n",
      "temperature: [20. 20.  9.  9.]\n",
      "temperature: [9.  9.  9.5 9.5]\n",
      "temperature: [ 9.5  9.5 10.  10. ]\n",
      "temperature: [10. 10. 12. 12.]\n",
      "temperature_set shape: (231579,)\n",
      "temperature_set: [8. 8. 8.]\n",
      "temperature_set: [ 8.  8. 10. 10.]\n",
      "temperature_set: [10. 10. 12. 12.]\n",
      "pressure_set shape: (231579,)\n",
      "pressure_set: [0. 0. 0.]\n",
      "pressure_set: [0.  0.  1.4 1.4]\n"
     ]
    }
   ],
   "metadata": {}
  },
  {
   "cell_type": "code",
   "execution_count": 17,
   "source": [
    "plt.figure(figsize=(12,4))\r\n",
    "plt.title('temperature during fermentation')\r\n",
    "plt.plot(time_days, temperature, color=\"blue\", label=\"current value\")\r\n",
    "plt.plot(time_days, temperature_set, color=\"red\", label=\"set value\")\r\n",
    "plt.xlabel('time[days]')\r\n",
    "plt.ylabel('temperature [°C]')\r\n",
    "plt.legend()\r\n",
    "plt.show()"
   ],
   "outputs": [
    {
     "output_type": "display_data",
     "data": {
      "text/plain": [
       "<Figure size 864x288 with 1 Axes>"
      ],
      "image/png": "[encoded data removed]"
     },
     "metadata": {
      "needs_background": "light"
     }
    }
   ],
   "metadata": {}
  },
  {
   "cell_type": "code",
   "execution_count": 18,
   "source": [
    "###########################################\r\n",
    "###         Extraktberechnung           ###\r\n",
    "###########################################\r\n",
    "\r\n",
    "# ----------------------------------------------------------------\r\n",
    "#           create arrays full of ones\r\n",
    "\r\n",
    "flow_mass = np.full_like(time_days, 1)\r\n",
    "flow_mass_total = np.full_like(time_days, 1)\r\n",
    "air_mass = np.full_like(time_days, 1)\r\n",
    "gas_in_liquid_mass = np.full_like(time_days, 1)\r\n",
    "total_co2_mass = np.full_like(time_days, 1)\r\n",
    "extract_mass_converted = np.full_like(time_days, 1)\r\n",
    "extraktgehalt = np.full_like(time_days, 1)\r\n",
    "extraktgehalt_scheinbar_1 = np.full_like(time_days, 1)\r\n",
    "vergaerungsgrad = np.full_like(time_days, 1)\r\n",
    "# ----------------------------------------------------------------\r\n",
    "#           constants for fermentation calculation\r\n",
    "\r\n",
    "SW = 11.9                                           # Stammwürze [°P]\r\n",
    "wuerze_mass = 2096                                  # Masse der Würze vor der Gärung [kg]\r\n",
    "wuerze_volume = 2                                   # Würzevloumen [m^3]\r\n",
    "air_volume = 1000                                   # Luftvolumen [l]\r\n",
    "extract_mass_start = SW * wuerze_mass / 100         # Startextrakt in [kg] aus Stammwürze und Masse der Würze\r\n",
    "mol_mass = 44.01                                    # Molare Masse von CO2 in [g/mol]\r\n",
    "henry_const = 0.0338                                # Henry-Konstante für CO2 [mol/(l*bar)]\r\n",
    "q = (0.22 + (SW * 0.001))                           # Umrechnungsfaktor für wahren/scheinbaren Extraktgehalt\r\n",
    "\r\n",
    "# ----------------------------------------------------------------------------------------\r\n",
    "#           loop over every step (every 5 seconds) during fermantation\r\n",
    "\r\n",
    "for i in range(len(extraktgehalt)):\r\n",
    "\r\n",
    "    temperature_kelvin = temperature[i] + 273.15                                        # Temperatur [K]\r\n",
    "\r\n",
    "    # ---------- ausströmendes CO2 ----------------------------------------------------------------------------------------------------------------\r\n",
    "    # density = (pressure[i] * 100000) / (188.9 * (temperature_kelvin))                   # Dichte aus iG-Gesetz [kg/m^3] (100000 - Umrechnung Pascal, 188.9 - Gaskonstante CO2)\r\n",
    "    # density = (pressure[i] * 100000) / (188.9 * 273.15)\r\n",
    "    density = 1.98\r\n",
    "    flow_mass[i] = airflow_5s[i] * density * 0.001                                      # Masse des Durchfluss der letzten 5s [kg]\r\n",
    "    if i == 0:\r\n",
    "        flow_mass_total[i] = flow_mass[i]\r\n",
    "    else:    \r\n",
    "        flow_mass_total[i] = flow_mass_total[i-1] + flow_mass[i]                        # gesamtes ausgeströmtes CO2 [kg]\r\n",
    "    \r\n",
    "    # ---------- im Bier gelöstes CO2 -------------------------------------------------------------------------------------------------------------\r\n",
    "    temp_compensation = math.exp(2400 * ((1/temperature_kelvin) - (1/298.15) ))         # Temperaturkompensation für Henrygesetz errechnen\r\n",
    "    henry_coefficient = henry_const * temp_compensation                                 # Henry-Koeffizient für CO2 [mol/(l*bar)]\r\n",
    "    CO2__concentration = henry_coefficient * pressure[i]                                # Stoffkonzentration in Flüssigkeit über Henry-Gesetz [mol/l]\r\n",
    "    gas_in_liquid_mass[i] = mol_mass * wuerze_volume * CO2__concentration               # CO2 im Bier gelöst [kg]\r\n",
    "\r\n",
    "    # ---------- im Tank über dem Bier stehendes CO2 ----------------------------------------------------------------------------------------------\r\n",
    "    air_mass[i] = (pressure[i] *100000  * air_volume * 0.001) / (188.9 * temperature_kelvin)      # CO2 im Tank iG-Gesetz [kg] (Beachte Umrechnung bar -> Pa, l -> m^3)\r\n",
    "    \r\n",
    "    # ---------- GESAMT ---------------------------------------------------------------------------------------------------------------------------\r\n",
    "    total_co2_mass[i] = flow_mass_total[i] + air_mass[i] + gas_in_liquid_mass[i]                                        # gesamt erzeugtes CO2 [kg]\r\n",
    "    extract_mass_converted[i] = total_co2_mass[i] * 2.1605                                                             # umgesetzter Extrakt [kg]\r\n",
    "    vergaerungsgrad[i] = extract_mass_converted[i] / extract_mass_start\r\n",
    "    extraktgehalt[i] = SW - (vergaerungsgrad[i] * SW)\r\n",
    "    # extraktgehalt[i] = (extract_mass_start - extract_mass_converted[i]) * 100 / (wuerze_mass - (flow_mass_total[i] + air_mass[i]))      # Restextraktgehalt [°P]\r\n",
    "    extraktgehalt_scheinbar_1[i] = (extraktgehalt[i] - (0.1808*SW))/0.8192                                                 # scheinbarer Extraktgehalt [°P]\r\n",
    "\r\n",
    "print('mass extract before fermantation:', extract_mass_start, 'kg \\n')\r\n",
    "print('mass of total CO2 flow (outside tank) after fermantation:', flow_mass_total[-1], 'kg')\r\n",
    "print('mass of CO2 above liquid in tank:', air_mass[-1], 'kg')\r\n",
    "print('mass of CO2 in liquid after fermantation:', gas_in_liquid_mass[-1], 'kg')\r\n",
    "print('total mass of CO2 after fermantation:', total_co2_mass[-1], 'kg \\n')\r\n",
    "print('Vergaerungsgrad:', vergaerungsgrad[-1], '\\n')\r\n",
    "print('Extraktgehalt shape:', extraktgehalt.shape)\r\n",
    "print('Extraktgehalt Start:', extraktgehalt[0])\r\n",
    "print('Extraktgehalt Ende:', extraktgehalt[-1])\r\n",
    "print('Extraktgehalt scheinbar Ende:', extraktgehalt_scheinbar_1[-1])\r\n",
    "\r\n"
   ],
   "outputs": [
    {
     "output_type": "stream",
     "name": "stdout",
     "text": [
      "mass extract before fermantation: 249.424 kg \n",
      "\n",
      "mass of total CO2 flow (outside tank) after fermantation: 65.66350323059989 kg\n",
      "mass of CO2 above liquid in tank: 1.6894138819881284 kg\n",
      "mass of CO2 in liquid after fermantation: 3.9076739226364197 kg\n",
      "total mass of CO2 after fermantation: 71.26059103522444 kg \n",
      "\n",
      "Vergaerungsgrad: 0.617256185978905 \n",
      "\n",
      "Extraktgehalt shape: (231579,)\n",
      "Extraktgehalt Start: 11.9\n",
      "Extraktgehalt Ende: 4.554651386851031\n",
      "Extraktgehalt scheinbar Ende: 2.933509993714637\n"
     ]
    }
   ],
   "metadata": {}
  },
  {
   "cell_type": "code",
   "execution_count": 19,
   "source": [
    "###########################################\r\n",
    "###         plot data over time         ###\r\n",
    "###########################################"
   ],
   "outputs": [],
   "metadata": {}
  },
  {
   "cell_type": "code",
   "execution_count": 20,
   "source": [
    "plt.figure(figsize=(12,4))\r\n",
    "plt.title('gas mass during fermentation')\r\n",
    "plt.plot(time_days, total_co2_mass, color=\"blue\", label=\"flow\")\r\n",
    "plt.xlabel('time [days]')\r\n",
    "plt.ylabel('total_co2_mass [kg]')\r\n",
    "plt.legend()\r\n",
    "plt.show()"
   ],
   "outputs": [
    {
     "output_type": "display_data",
     "data": {
      "text/plain": [
       "<Figure size 864x288 with 1 Axes>"
      ],
      "image/png": "[encoded data removed]"
     },
     "metadata": {
      "needs_background": "light"
     }
    }
   ],
   "metadata": {}
  },
  {
   "cell_type": "code",
   "execution_count": 21,
   "source": [
    "plt.figure(figsize=(12,4))\r\n",
    "plt.title('gas mass during fermentation')\r\n",
    "plt.plot(time_days, flow_mass, color=\"blue\", label=\"flow\")\r\n",
    "plt.xlabel('time [days]')\r\n",
    "plt.ylabel('gas mass [kg]')\r\n",
    "plt.legend()\r\n",
    "plt.show()"
   ],
   "outputs": [
    {
     "output_type": "display_data",
     "data": {
      "text/plain": [
       "<Figure size 864x288 with 1 Axes>"
      ],
      "image/png": "[encoded data removed]"
     },
     "metadata": {
      "needs_background": "light"
     }
    }
   ],
   "metadata": {}
  },
  {
   "cell_type": "code",
   "execution_count": 22,
   "source": [
    "plt.figure(figsize=(12,4))\r\n",
    "plt.title('gas mass during fermentation')\r\n",
    "plt.plot(time_days, air_mass, color=\"red\", label=\"gas in tank\")\r\n",
    "plt.plot(time_days, gas_in_liquid_mass, color=\"green\", label=\"gas in liquid\")\r\n",
    "plt.xlabel('time [days]')\r\n",
    "plt.ylabel('gas mass [kg]')\r\n",
    "plt.legend()\r\n",
    "plt.show()"
   ],
   "outputs": [
    {
     "output_type": "display_data",
     "data": {
      "text/plain": [
       "<Figure size 864x288 with 1 Axes>"
      ],
      "image/png": "[encoded data removed]"
     },
     "metadata": {
      "needs_background": "light"
     }
    }
   ],
   "metadata": {}
  },
  {
   "cell_type": "code",
   "execution_count": 23,
   "source": [
    "plt.figure(figsize=(12,4))\r\n",
    "plt.title('umgesetzter Extrakt während Gärung')\r\n",
    "plt.plot(time_days, extract_mass_converted)\r\n",
    "plt.xlabel('time [days]')\r\n",
    "plt.ylabel('Extraktmasse [kg]')\r\n",
    "plt.show()"
   ],
   "outputs": [
    {
     "output_type": "display_data",
     "data": {
      "text/plain": [
       "<Figure size 864x288 with 1 Axes>"
      ],
      "image/png": "[encoded data removed]"
     },
     "metadata": {
      "needs_background": "light"
     }
    }
   ],
   "metadata": {}
  },
  {
   "cell_type": "code",
   "execution_count": 24,
   "source": [
    "plt.figure(figsize=(12,4))\r\n",
    "plt.title('Extraktgehalt während Gärung')\r\n",
    "plt.plot(time_days, extraktgehalt)\r\n",
    "plt.xlabel('time [days]')\r\n",
    "plt.ylabel('Extraktgehalt [Gew.-%]')\r\n",
    "plt.show()"
   ],
   "outputs": [
    {
     "output_type": "display_data",
     "data": {
      "text/plain": [
       "<Figure size 864x288 with 1 Axes>"
      ],
      "image/png": "[encoded data removed]"
     },
     "metadata": {
      "needs_background": "light"
     }
    }
   ],
   "metadata": {}
  },
  {
   "cell_type": "code",
   "execution_count": 25,
   "source": [
    "plt.figure(figsize=(12,4))\r\n",
    "plt.title('Extraktgehalt während Gärung')\r\n",
    "plt.plot(time_days, extraktgehalt_scheinbar_1)\r\n",
    "plt.xlabel('time [days]')\r\n",
    "plt.ylabel('Extraktgehalt [Gew.-%]')\r\n",
    "plt.show()"
   ],
   "outputs": [
    {
     "output_type": "display_data",
     "data": {
      "text/plain": [
       "<Figure size 864x288 with 1 Axes>"
      ],
      "image/png": "[encoded data removed]"
     },
     "metadata": {
      "needs_background": "light"
     }
    }
   ],
   "metadata": {}
  },
  {
   "cell_type": "code",
   "execution_count": 26,
   "source": [
    "###############################################################################################################\r\n",
    "###                                                                                                         ###\r\n",
    "###                                     PREPARATION FOR MACHINE LEARNING                                    ###\r\n",
    "###                                                                                                         ###\r\n",
    "###############################################################################################################"
   ],
   "outputs": [],
   "metadata": {}
  },
  {
   "cell_type": "code",
   "execution_count": 27,
   "source": [
    "###############################################################################################\r\n",
    "###         move values in different arrays to get \"before-values\" & \"after-values\"         ###\r\n",
    "###############################################################################################\r\n",
    "\r\n",
    "Es_1hourbefore = np.concatenate((np.zeros(720), extraktgehalt_scheinbar_1[:-720]))\r\n",
    "Es_6hoursbefore = np.concatenate((np.zeros(4320), extraktgehalt_scheinbar_1[:-4320]))\r\n",
    "Es_12hoursbefore = np.concatenate((np.zeros(8640), extraktgehalt_scheinbar_1[:-8640]))\r\n",
    "Es_24hoursbefore = np.concatenate((np.zeros(17280), extraktgehalt_scheinbar_1[:-17280]))\r\n",
    "\r\n",
    "print('airflow before shapes:', Es_1hourbefore.shape, Es_6hoursbefore.shape, Es_12hoursbefore.shape, Es_24hoursbefore.shape)\r\n",
    "print('airflow_1hourbefore:', Es_1hourbefore[:3])\r\n",
    "print('airflow_1hourbefore:', Es_1hourbefore[718:722])\r\n",
    "\r\n",
    "# ----------------------------------------------------------------\r\n",
    "\r\n",
    "Es_1hourlater = np.concatenate((extraktgehalt_scheinbar_1[720:], np.zeros(720)))\r\n",
    "Es_6hourslater = np.concatenate((extraktgehalt_scheinbar_1[4320:], np.zeros(4320)))\r\n",
    "Es_12hourslater = np.concatenate((extraktgehalt_scheinbar_1[8640:], np.zeros(8640)))\r\n",
    "Es_24hourslater = np.concatenate((extraktgehalt_scheinbar_1[17280:], np.zeros(17280)))\r\n",
    "\r\n",
    "print('airflow later shapes:', Es_1hourlater.shape, Es_6hourslater.shape, Es_12hourslater.shape, Es_24hourslater.shape)\r\n",
    "print('airflow_1hourlater:', Es_1hourbefore[:3])\r\n",
    "print('airflow_1hourlater:', Es_1hourbefore[718:722])"
   ],
   "outputs": [
    {
     "output_type": "stream",
     "name": "stdout",
     "text": [
      "airflow before shapes: (231579,) (231579,) (231579,) (231579,)\n",
      "airflow_1hourbefore: [0. 0. 0.]\n",
      "airflow_1hourbefore: [ 0.   0.  11.9 11.9]\n",
      "airflow later shapes: (231579,) (231579,) (231579,) (231579,)\n",
      "airflow_1hourlater: [0. 0. 0.]\n",
      "airflow_1hourlater: [ 0.   0.  11.9 11.9]\n"
     ]
    }
   ],
   "metadata": {}
  },
  {
   "cell_type": "code",
   "execution_count": 28,
   "source": [
    "############################################################\r\n",
    "###         reshape arrays for pandas DataFrame          ###\r\n",
    "############################################################\r\n",
    "\r\n",
    "time_days_T = time_days.reshape((-1, 1))\r\n",
    "time_seconds_T = time_seconds.reshape((-1, 1))\r\n",
    "pressure_T = pressure.reshape((-1, 1))\r\n",
    "pressure_set_T = pressure_set.reshape((-1, 1))\r\n",
    "temperature_T = temperature.reshape((-1, 1))\r\n",
    "temperature_set_T = temperature_set.reshape((-1, 1))\r\n",
    "airflow_T = airflow.reshape((-1, 1))\r\n",
    "airflow_5s_T = airflow_5s.reshape((-1, 1))\r\n",
    "airflow_sum_T = airflow_sum.reshape((-1, 1))\r\n",
    "extraktgehalt_scheinbar_1_T = extraktgehalt_scheinbar_1.reshape((-1, 1))\r\n",
    "\r\n",
    "print('time_days shape:', time_days_T.shape)\r\n",
    "print('time_seconds shape:', time_seconds_T.shape)\r\n",
    "print('pressure shape:', pressure_T.shape)\r\n",
    "print('temperature shape:', temperature_T.shape)\r\n",
    "print('airflow shape:', airflow_T.shape)\r\n",
    "print('airflow_5s shape:', airflow_5s_T.shape)\r\n",
    "print('airflow_sum shape:', airflow_sum_T.shape)\r\n",
    "print('extract scheinbar shape:', extraktgehalt_scheinbar_1_T.shape)\r\n",
    "# ----------------------------------------------------------------\r\n",
    "\r\n",
    "Es_1hourbefore_T = Es_1hourbefore.reshape((-1, 1))\r\n",
    "Es_6hoursbefore_T = Es_6hoursbefore.reshape((-1, 1))\r\n",
    "Es_12hoursbefore_T = Es_12hoursbefore.reshape((-1, 1))\r\n",
    "Es_24hoursbefore_T = Es_24hoursbefore.reshape((-1, 1))\r\n",
    "\r\n",
    "Es_1hourlater_T = Es_1hourlater.reshape((-1, 1))\r\n",
    "Es_6hourslater_T = Es_6hourslater.reshape((-1, 1))\r\n",
    "Es_12hourslater_T = Es_12hourslater.reshape((-1, 1))\r\n",
    "Es_24hourslater_T = Es_24hourslater.reshape((-1, 1))\r\n",
    "\r\n",
    "print('airflow_1hourbefore shape:', Es_1hourbefore_T.shape)\r\n",
    "print('airflow_1hourlater shape:', Es_1hourlater_T.shape)"
   ],
   "outputs": [
    {
     "output_type": "stream",
     "name": "stdout",
     "text": [
      "time_days shape: (231579, 1)\n",
      "time_seconds shape: (231579, 1)\n",
      "pressure shape: (231579, 1)\n",
      "temperature shape: (231579, 1)\n",
      "airflow shape: (231579, 1)\n",
      "airflow_5s shape: (231579, 1)\n",
      "airflow_sum shape: (231579, 1)\n",
      "extract scheinbar shape: (231579, 1)\n",
      "airflow_1hourbefore shape: (231579, 1)\n",
      "airflow_1hourlater shape: (231579, 1)\n"
     ]
    }
   ],
   "metadata": {}
  },
  {
   "cell_type": "code",
   "execution_count": 29,
   "source": [
    "\r\n",
    "################################################\r\n",
    "###         create pandas DataFrame          ###\r\n",
    "################################################\r\n",
    "\r\n",
    "fermentation_df = pd.DataFrame(np.hstack((time_seconds_T, pressure_T, pressure_set_T, temperature_T, temperature_set_T, airflow_5s_T, airflow_sum_T, extraktgehalt_scheinbar_1_T, Es_1hourbefore_T, Es_6hoursbefore_T, Es_12hoursbefore_T, Es_24hoursbefore_T, Es_1hourlater_T, Es_6hourslater_T, Es_12hourslater_T, Es_24hourslater_T, )), columns=['time [s]', 'pressure [bar]', 'pressure set [bar]', 'temperature [°C]', 'temperature set [°C]', 'airflow [SLPM/5s]', 'airflow_sum [SL]', 'extract scheinbar [°P]', 'extract scheinbar 1 hour before [°P]', 'extract scheinbar 6 hours before [°P]', 'extract scheinbar 12 hours before [°P]', 'extract scheinbar 24 hours before [°P]',  'extract scheinbar 1 hour later [°P]', 'extract scheinbar 6 hours later [°P]', 'extract scheinbar 12 hours later [°P]', 'extract scheinbar 24 hours later [°P]'])\r\n",
    "\r\n",
    "fermentation_array = fermentation_df.to_numpy()\r\n",
    "\r\n",
    "print('fermentation_df shape:', fermentation_df.shape)\r\n",
    "print(fermentation_df.head(3))\r\n",
    "print('fermentation_array shape:', fermentation_array.shape)\r\n",
    "print(fermentation_array[13456:13457])"
   ],
   "outputs": [
    {
     "output_type": "stream",
     "name": "stdout",
     "text": [
      "fermentation_df shape: (231579, 16)\n",
      "   time [s]  pressure [bar]  pressure set [bar]  temperature [°C]  \\\n",
      "0       1.0             0.0                 0.0              20.0   \n",
      "1       6.0             0.0                 0.0              20.0   \n",
      "2      11.0             0.0                 0.0              20.0   \n",
      "\n",
      "   temperature set [°C]  airflow [SLPM/5s]  airflow_sum [SL]  \\\n",
      "0                   8.0                0.0               0.0   \n",
      "1                   8.0                0.0               0.0   \n",
      "2                   8.0                0.0               0.0   \n",
      "\n",
      "   extract scheinbar [°P]  extract scheinbar 1 hour before [°P]  \\\n",
      "0                    11.9                                   0.0   \n",
      "1                    11.9                                   0.0   \n",
      "2                    11.9                                   0.0   \n",
      "\n",
      "   extract scheinbar 6 hours before [°P]  \\\n",
      "0                                    0.0   \n",
      "1                                    0.0   \n",
      "2                                    0.0   \n",
      "\n",
      "   extract scheinbar 12 hours before [°P]  \\\n",
      "0                                     0.0   \n",
      "1                                     0.0   \n",
      "2                                     0.0   \n",
      "\n",
      "   extract scheinbar 24 hours before [°P]  \\\n",
      "0                                     0.0   \n",
      "1                                     0.0   \n",
      "2                                     0.0   \n",
      "\n",
      "   extract scheinbar 1 hour later [°P]  extract scheinbar 6 hours later [°P]  \\\n",
      "0                                 11.9                                  11.9   \n",
      "1                                 11.9                                  11.9   \n",
      "2                                 11.9                                  11.9   \n",
      "\n",
      "   extract scheinbar 12 hours later [°P]  \\\n",
      "0                                   11.9   \n",
      "1                                   11.9   \n",
      "2                                   11.9   \n",
      "\n",
      "   extract scheinbar 24 hours later [°P]  \n",
      "0                                   11.9  \n",
      "1                                   11.9  \n",
      "2                                   11.9  \n",
      "fermentation_array shape: (231579, 16)\n",
      "[[6.75560000e+04 0.00000000e+00 0.00000000e+00 2.00000000e+01\n",
      "  8.00000000e+00 0.00000000e+00 0.00000000e+00 1.19000000e+01\n",
      "  1.19000000e+01 1.19000000e+01 1.19000000e+01 0.00000000e+00\n",
      "  1.19000000e+01 1.19000000e+01 1.18765220e+01 1.17523978e+01]]\n"
     ]
    }
   ],
   "metadata": {}
  },
  {
   "cell_type": "code",
   "execution_count": 30,
   "source": [
    "###############################################################################################################\r\n",
    "###                                                                                                         ###\r\n",
    "###                                     MACHINE LEARNING                                                    ###\r\n",
    "###                                                                                                         ###\r\n",
    "###############################################################################################################"
   ],
   "outputs": [],
   "metadata": {}
  },
  {
   "cell_type": "code",
   "execution_count": 31,
   "source": [
    "###########################################################\r\n",
    "###                 features / labels                   ###\r\n",
    "###########################################################\r\n",
    "\r\n",
    "from sklearn.model_selection import train_test_split\r\n",
    "from sklearn.metrics import mean_absolute_error\r\n",
    "from sklearn.metrics import r2_score\r\n",
    "\r\n",
    "# features / labels\r\n",
    "\r\n",
    "features = ['time [s]', 'pressure [bar]', 'pressure set [bar]', 'temperature [°C]', 'temperature set [°C]', 'airflow [SLPM/5s]', 'airflow_sum [SL]', 'extract scheinbar [°P]', 'extract scheinbar 1 hour before [°P]', 'extract scheinbar 6 hours before [°P]', 'extract scheinbar 12 hours before [°P]', 'extract scheinbar 24 hours before [°P]',]\r\n",
    "\r\n",
    "labels = ['extract scheinbar 1 hour later [°P]', 'extract scheinbar 6 hours later [°P]', 'extract scheinbar 12 hours later [°P]', 'extract scheinbar 24 hours later [°P]']\r\n",
    "\r\n",
    "X = fermentation_df.loc[:, features]\r\n",
    "y = fermentation_df.loc[:, labels]\r\n",
    "\r\n",
    "print(\"X shape:\", X.shape)\r\n",
    "# print(X[134566:134567])\r\n",
    "print(\"y shape:\", y.shape)\r\n",
    "# print(y[134566:134567])"
   ],
   "outputs": [
    {
     "output_type": "stream",
     "name": "stdout",
     "text": [
      "X shape: (231579, 12)\n",
      "y shape: (231579, 4)\n"
     ]
    }
   ],
   "metadata": {}
  },
  {
   "cell_type": "code",
   "execution_count": 50,
   "source": [
    "###########################################\r\n",
    "###         Linear Regression           ###\r\n",
    "###########################################\r\n",
    "\r\n",
    "from sklearn.linear_model import LinearRegression\r\n",
    "import sklearn.preprocessing as preprocessing\r\n",
    "\r\n",
    "# algorithm\r\n",
    "\r\n",
    "l_reg = LinearRegression()\r\n",
    "X_train, X_test, y_train, y_test = train_test_split(X, y, test_size=0.7, random_state=4)\r\n",
    "\r\n",
    "print(\"X_train shape:\", X_train.shape, \"X_test shape:\", X_test.shape)\r\n",
    "print(\"y_train shape:\", y_train.shape, \"y_test shape:\", y_test.shape, '\\n\\n')\r\n",
    "\r\n",
    "# training\r\n",
    "\r\n",
    "model = l_reg.fit(X_train, y_train)\r\n",
    "\r\n",
    "# print(\"score: \", model.score(X_test, y_test))\r\n",
    "# print(\"coeff: \", l_reg.coef_)\r\n",
    "# print(\"intercept: \", l_reg.intercept_)\r\n",
    "\r\n",
    "# prediction\r\n",
    "\r\n",
    "predictions = model.predict(X_test)\r\n",
    "\r\n",
    "# evaluation\r\n",
    "\r\n",
    "print(\"mean_absolute_error:\", mean_absolute_error(y_test, predictions))\r\n",
    "print(\"r2_score:\", r2_score(y_test, predictions))\r\n",
    "\r\n",
    "# print(\"test data:\\n\", X_test[12534:12535])\r\n",
    "# print(\"labels to test data:\\n\", y_test[12534:12535])\r\n",
    "print(\"\\n predictions: \\n\", model.predict(X_test[8765:8769]))"
   ],
   "outputs": [
    {
     "output_type": "stream",
     "name": "stdout",
     "text": [
      "X_train shape: (69473, 12) X_test shape: (162106, 12)\n",
      "y_train shape: (69473, 4) y_test shape: (162106, 4) \n",
      "\n",
      "\n",
      "mean_absolute_error: 0.1882194647524234\n",
      "r2_score: 0.9875032681982936\n",
      "\n",
      " predictions: \n",
      " [[ 2.9171746   2.83821991  2.73798232  2.52318737]\n",
      " [ 2.93108159  2.88897283  2.82510981  2.71414328]\n",
      " [10.21190524  9.80448662  9.27967955  8.14875003]\n",
      " [ 3.85361612  3.54919185  3.25655319  2.87427837]]\n"
     ]
    }
   ],
   "metadata": {}
  },
  {
   "cell_type": "code",
   "execution_count": 48,
   "source": [
    "#################################################################\r\n",
    "###         Linear Regression with StandartScaler()           ###\r\n",
    "#################################################################\r\n",
    "\r\n",
    "# preprocessing\r\n",
    "\r\n",
    "std = preprocessing.StandardScaler()\r\n",
    "X_std = std.fit_transform(X)\r\n",
    "\r\n",
    "# algorithm\r\n",
    "\r\n",
    "stdscl_reg = LinearRegression()\r\n",
    "X_train, X_test, y_train, y_test = train_test_split(X_std, y, test_size=0.7, random_state=4)\r\n",
    "\r\n",
    "print(\"X_train shape:\", X_train.shape, \"X_test shape:\", X_test.shape)\r\n",
    "print(\"y_train shape:\", y_train.shape, \"y_test shape:\", y_test.shape, '\\n\\n')\r\n",
    "\r\n",
    "# training\r\n",
    "\r\n",
    "model = stdscl_reg.fit(X_train, y_train)\r\n",
    "\r\n",
    "# prediction\r\n",
    "\r\n",
    "predictions = model.predict(X_test)\r\n",
    "\r\n",
    "# evaluation\r\n",
    "\r\n",
    "print(\"mean_absolute_error:\", mean_absolute_error(y_test, predictions))\r\n",
    "print(\"r2_score:\", r2_score(y_test, predictions))\r\n",
    "\r\n",
    "# print(\"test data:\\n\", X_test[12534:12535])\r\n",
    "# print(\"labels to test data:\\n\", y_test[12534:12535])\r\n",
    "print(\"\\n predictions: \\n\", model.predict(X_test[8765:8769]))"
   ],
   "outputs": [
    {
     "output_type": "stream",
     "name": "stdout",
     "text": [
      "X_train shape: (69473, 12) X_test shape: (162106, 12)\n",
      "y_train shape: (69473, 4) y_test shape: (162106, 4) \n",
      "\n",
      "\n",
      "mean_absolute_error: 0.18821946475056406\n",
      "r2_score: 0.9875032681983852\n",
      "\n",
      " predictions:  [[ 2.9171746   2.83821991  2.73798232  2.52318737]\n",
      " [ 2.93108159  2.88897283  2.82510981  2.71414328]\n",
      " [10.21190524  9.80448662  9.27967955  8.14875002]\n",
      " [ 3.85361612  3.54919185  3.25655319  2.87427837]]\n"
     ]
    }
   ],
   "metadata": {}
  },
  {
   "cell_type": "code",
   "execution_count": 49,
   "source": [
    "###############################################################\r\n",
    "###         Linear Regression with MinMaxScaler()           ###\r\n",
    "###############################################################\r\n",
    "\r\n",
    "# preprocessing\r\n",
    "\r\n",
    "minmax = preprocessing.MinMaxScaler()\r\n",
    "X_minmax = minmax.fit_transform(X)\r\n",
    "\r\n",
    "\r\n",
    "# algorithm\r\n",
    "\r\n",
    "minmax_reg = LinearRegression()\r\n",
    "X_train, X_test, y_train, y_test = train_test_split(X_minmax, y, test_size=0.7, random_state=4)\r\n",
    "\r\n",
    "print(\"X_train shape:\", X_train.shape, \"X_test shape:\", X_test.shape)\r\n",
    "print(\"y_train shape:\", y_train.shape, \"y_test shape:\", y_test.shape, '\\n\\n')\r\n",
    "\r\n",
    "# training\r\n",
    "\r\n",
    "model = minmax_reg.fit(X_train, y_train)\r\n",
    "\r\n",
    "# prediction\r\n",
    "\r\n",
    "predictions = model.predict(X_test)\r\n",
    "\r\n",
    "# evaluation\r\n",
    "\r\n",
    "print(\"mean_absolute_error:\", mean_absolute_error(y_test, predictions))\r\n",
    "print(\"r2_score:\", r2_score(y_test, predictions))\r\n",
    "\r\n",
    "# print(\"test data:\\n\", X_test[12534:12535])\r\n",
    "# print(\"labels to test data:\\n\", y_test[12534:12535])\r\n",
    "print(\"\\n predictions: \\n\", model.predict(X_test[8765:8769]))"
   ],
   "outputs": [
    {
     "output_type": "stream",
     "name": "stdout",
     "text": [
      "X_train shape: (69473, 12) X_test shape: (162106, 12)\n",
      "y_train shape: (69473, 4) y_test shape: (162106, 4) \n",
      "\n",
      "\n",
      "mean_absolute_error: 0.1882194647517488\n",
      "r2_score: 0.9875032681983793\n",
      "\n",
      " predictions: \n",
      " [[ 2.9171746   2.83821991  2.73798232  2.52318737]\n",
      " [ 2.93108159  2.88897283  2.82510981  2.71414328]\n",
      " [10.21190524  9.80448662  9.27967955  8.14875002]\n",
      " [ 3.85361612  3.54919185  3.25655319  2.87427837]]\n"
     ]
    }
   ],
   "metadata": {}
  },
  {
   "cell_type": "code",
   "execution_count": 55,
   "source": [
    "###############################################\r\n",
    "###         Elastic Net Regression          ###\r\n",
    "###############################################\r\n",
    "\r\n",
    "from sklearn.linear_model import ElasticNet\r\n",
    "\r\n",
    "# preprocessing\r\n",
    "\r\n",
    "# minmax = preprocessing.MinMaxScaler()\r\n",
    "# X_minmax = minmax.fit_transform(X)\r\n",
    "\r\n",
    "# algorithm\r\n",
    "\r\n",
    "elastic_net_regressor = ElasticNet()\r\n",
    "X_train, X_test, y_train, y_test = train_test_split(X, y, test_size=0.7, random_state=4)\r\n",
    "\r\n",
    "print(\"X_train shape:\", X_train.shape, \"X_test shape:\", X_test.shape)\r\n",
    "print(\"y_train shape:\", y_train.shape, \"y_test shape:\", y_test.shape, '\\n\\n')\r\n",
    "\r\n",
    "# training\r\n",
    "\r\n",
    "model = elastic_net_regressor.fit(X_train, y_train)\r\n",
    "\r\n",
    "# prediction\r\n",
    "\r\n",
    "predictions = model.predict(X_test)\r\n",
    "\r\n",
    "# evaluation\r\n",
    "\r\n",
    "print(\"mean_absolute_error:\", mean_absolute_error(y_test, predictions))\r\n",
    "print(\"r2_score:\", r2_score(y_test, predictions))\r\n",
    "\r\n",
    "# print(\"test data:\\n\", X_test[12534:12535])\r\n",
    "# print(\"labels to test data:\\n\", y_test[12534:12535])\r\n",
    "print(\"\\n predictions: \\n\", model.predict(X_test[8765:8769]))"
   ],
   "outputs": [
    {
     "output_type": "stream",
     "name": "stdout",
     "text": [
      "X_train shape: (69473, 12) X_test shape: (162106, 12)\n",
      "y_train shape: (69473, 4) y_test shape: (162106, 4) \n",
      "\n",
      "\n",
      "mean_absolute_error: 0.3387201754356352\n",
      "r2_score: 0.9777434660015947\n",
      "\n",
      " predictions: \n",
      " [[ 2.92914082  2.73877652  2.53767379  2.19110015]\n",
      " [ 3.08528395  2.94682876  2.82772032  2.68668512]\n",
      " [10.2680242  10.04026511  9.66353715  8.73579905]\n",
      " [ 3.71251824  3.60499165  3.47740531  3.27118457]]\n"
     ]
    }
   ],
   "metadata": {}
  },
  {
   "cell_type": "code",
   "execution_count": 54,
   "source": [
    "#########################################################\r\n",
    "###        Multi-layer Perceptron Regression          ###\r\n",
    "#########################################################\r\n",
    "\r\n",
    "from sklearn.neural_network import MLPRegressor\r\n",
    "\r\n",
    "# algorithm\r\n",
    "\r\n",
    "mlp_regressor = MLPRegressor(hidden_layer_sizes=(20,50,20), activation='logistic', max_iter=500)\r\n",
    "X_train, X_test, y_train, y_test = train_test_split(X, y, test_size=0.7, random_state=4)\r\n",
    "\r\n",
    "print(\"X_train shape:\", X_train.shape, \"X_test shape:\", X_test.shape)\r\n",
    "print(\"y_train shape:\", y_train.shape, \"y_test shape:\", y_test.shape, '\\n\\n')\r\n",
    "\r\n",
    "# training\r\n",
    "\r\n",
    "model = mlp_regressor.fit(X_train, y_train)\r\n",
    "\r\n",
    "# prediction\r\n",
    "\r\n",
    "predictions = model.predict(X_test)\r\n",
    "\r\n",
    "# evaluation\r\n",
    "\r\n",
    "print(\"mean_absolute_error:\", mean_absolute_error(y_test, predictions))\r\n",
    "print(\"r2_score:\", r2_score(y_test, predictions))\r\n",
    "\r\n",
    "# print(\"test data:\\n\", X_test[12534:12535])\r\n",
    "# print(\"labels to test data:\\n\", y_test[12534:12535])\r\n",
    "print(\"\\n predictions: \\n\", model.predict(X_test[8765:8769]))"
   ],
   "outputs": [
    {
     "output_type": "stream",
     "name": "stdout",
     "text": [
      "X_train shape: (69473, 12) X_test shape: (162106, 12)\n",
      "y_train shape: (69473, 4) y_test shape: (162106, 4) \n",
      "\n",
      "\n",
      "mean_absolute_error: 3.2171597387310094\n",
      "r2_score: -3.4379268651907324e-06\n",
      "\n",
      " predictions: \n",
      " [[5.94388791 5.76664972 5.53676528 5.09391899]\n",
      " [5.94388791 5.76664972 5.53676528 5.09391899]\n",
      " [5.94388791 5.76664972 5.53676528 5.09391899]\n",
      " [5.94388791 5.76664972 5.53676528 5.09391899]]\n"
     ]
    }
   ],
   "metadata": {}
  },
  {
   "cell_type": "code",
   "execution_count": null,
   "source": [],
   "outputs": [],
   "metadata": {}
  },
  {
   "cell_type": "code",
   "execution_count": null,
   "source": [],
   "outputs": [],
   "metadata": {}
  },
  {
   "cell_type": "code",
   "execution_count": null,
   "source": [],
   "outputs": [],
   "metadata": {}
  },
  {
   "cell_type": "code",
   "execution_count": null,
   "source": [],
   "outputs": [],
   "metadata": {}
  },
  {
   "cell_type": "code",
   "execution_count": null,
   "source": [],
   "outputs": [],
   "metadata": {}
  },
  {
   "cell_type": "code",
   "execution_count": null,
   "source": [],
   "outputs": [],
   "metadata": {}
  },
  {
   "cell_type": "code",
   "execution_count": null,
   "source": [],
   "outputs": [],
   "metadata": {}
  },
  {
   "cell_type": "code",
   "execution_count": null,
   "source": [],
   "outputs": [],
   "metadata": {}
  },
  {
   "cell_type": "code",
   "execution_count": null,
   "source": [],
   "outputs": [],
   "metadata": {}
  },
  {
   "cell_type": "code",
   "execution_count": null,
   "source": [],
   "outputs": [],
   "metadata": {}
  },
  {
   "cell_type": "code",
   "execution_count": null,
   "source": [],
   "outputs": [],
   "metadata": {}
  },
  {
   "cell_type": "code",
   "execution_count": null,
   "source": [],
   "outputs": [],
   "metadata": {}
  },
  {
   "cell_type": "code",
   "execution_count": null,
   "source": [],
   "outputs": [],
   "metadata": {}
  },
  {
   "cell_type": "code",
   "execution_count": null,
   "source": [],
   "outputs": [],
   "metadata": {}
  },
  {
   "cell_type": "code",
   "execution_count": null,
   "source": [],
   "outputs": [],
   "metadata": {}
  },
  {
   "cell_type": "code",
   "execution_count": null,
   "source": [],
   "outputs": [],
   "metadata": {}
  },
  {
   "cell_type": "code",
   "execution_count": null,
   "source": [],
   "outputs": [],
   "metadata": {}
  },
  {
   "cell_type": "code",
   "execution_count": null,
   "source": [],
   "outputs": [],
   "metadata": {}
  },
  {
   "cell_type": "code",
   "execution_count": null,
   "source": [],
   "outputs": [],
   "metadata": {}
  },
  {
   "cell_type": "code",
   "execution_count": null,
   "source": [],
   "outputs": [],
   "metadata": {}
  },
  {
   "cell_type": "code",
   "execution_count": null,
   "source": [],
   "outputs": [],
   "metadata": {}
  }
 ],
 "metadata": {
  "kernelspec": {
   "name": "python3",
   "display_name": "Python 3.9.5 64-bit"
  },
  "language_info": {
   "codemirror_mode": {
    "name": "ipython",
    "version": 3
   },
   "file_extension": ".py",
   "mimetype": "text/x-python",
   "name": "python",
   "nbconvert_exporter": "python",
   "pygments_lexer": "ipython3",
   "version": "3.9.5"
  },
  "orig_nbformat": 2,
  "interpreter": {
   "hash": "ae72a641a505b4d1ffa4d85cdedb24b76d05ea5d04fc128aa1fd1592f37db228"
  }
 },
 "nbformat": 4,
 "nbformat_minor": 2
}